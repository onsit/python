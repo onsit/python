{
 "cells": [
  {
   "cell_type": "code",
   "execution_count": 1,
   "metadata": {
    "scrolled": true
   },
   "outputs": [
    {
     "name": "stdin",
     "output_type": "stream",
     "text": [
      "whats yo name slime? Reid\n",
      "whats yo age gang? 33\n"
     ]
    },
    {
     "name": "stdout",
     "output_type": "stream",
     "text": [
      "Addition: 19\n",
      "Subtraction: 11\n",
      "Multiplication: 60\n",
      "Division: 3.75\n",
      "Inter Division: 3\n",
      "moduels: 3\n",
      "Exponent: 225\n",
      "x squared: 225\n",
      "a+b*c: 95\n",
      "33\n",
      "165\n",
      "Reid user_age * 5 165\n"
     ]
    }
   ],
   "source": [
    "a = 15\n",
    "b = 4\n",
    "c = 5\n",
    "user_name = input(\"whats yo name slime?\")\n",
    "user_age = int(input(\"whats yo age gang?\"))\n",
    "\n",
    "print(\"Addition:\", a + b)\n",
    "print(\"Subtraction:\", a - b)\n",
    "print(\"Multiplication:\", a * b)\n",
    "print(\"Division:\", a / b)\n",
    "print(\"Inter Division:\", a // b)\n",
    "print(\"moduels:\", a % b)\n",
    "print(\"Exponent:\", a ** 2)\n",
    "print(\"x squared:\", a ** 2)\n",
    "print(\"a+b*c:\", (a + b) * c)\n",
    "print(user_age)\n",
    "print(user_age * c)\n",
    "print(user_name, \"user_age * 5\", (user_age * c))"
   ]
  },
  {
   "cell_type": "code",
   "execution_count": null,
   "metadata": {},
   "outputs": [],
   "source": []
  },
  {
   "cell_type": "code",
   "execution_count": null,
   "metadata": {},
   "outputs": [],
   "source": []
  },
  {
   "cell_type": "code",
   "execution_count": null,
   "metadata": {},
   "outputs": [],
   "source": []
  },
  {
   "cell_type": "code",
   "execution_count": null,
   "metadata": {},
   "outputs": [],
   "source": []
  }
 ],
 "metadata": {
  "kernelspec": {
   "display_name": "Python 3 (ipykernel)",
   "language": "python",
   "name": "python3"
  },
  "language_info": {
   "codemirror_mode": {
    "name": "ipython",
    "version": 3
   },
   "file_extension": ".py",
   "mimetype": "text/x-python",
   "name": "python",
   "nbconvert_exporter": "python",
   "pygments_lexer": "ipython3",
   "version": "3.11.0"
  }
 },
 "nbformat": 4,
 "nbformat_minor": 4
}
