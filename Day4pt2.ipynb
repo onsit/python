{
 "cells": [
  {
   "cell_type": "code",
   "execution_count": 10,
   "metadata": {},
   "outputs": [
    {
     "name": "stdin",
     "output_type": "stream",
     "text": [
      "give me a number, bucko!:  7\n"
     ]
    },
    {
     "name": "stdout",
     "output_type": "stream",
     "text": [
      "You picked a postive muber....good job pal! 👍\n"
     ]
    }
   ],
   "source": [
    "number = int(input(\"give me a number, bucko!: \"))\n",
    "\n",
    "if number > 0:\n",
    "    print(\"You picked a postive muber....good job pal! 👍\")\n",
    "elif number < 0: \n",
    "    print(\"ewww a negative number? yuck\")\n",
    "else: \n",
    "    print(\"you hipster son of a gun 🤮\")"
   ]
  }
 ],
 "metadata": {
  "kernelspec": {
   "display_name": "Python 3 (ipykernel)",
   "language": "python",
   "name": "python3"
  },
  "language_info": {
   "codemirror_mode": {
    "name": "ipython",
    "version": 3
   },
   "file_extension": ".py",
   "mimetype": "text/x-python",
   "name": "python",
   "nbconvert_exporter": "python",
   "pygments_lexer": "ipython3",
   "version": "3.11.0"
  }
 },
 "nbformat": 4,
 "nbformat_minor": 4
}
