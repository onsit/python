{
 "cells": [
  {
   "cell_type": "code",
   "execution_count": 3,
   "metadata": {},
   "outputs": [
    {
     "name": "stdin",
     "output_type": "stream",
     "text": [
      "give me a number, slimo: 7\n",
      "give me a second number, bro bro: 7\n"
     ]
    },
    {
     "name": "stdout",
     "output_type": "stream",
     "text": [
      "your numbers multiplied equal: 49 ....weirdo\n",
      "your numbers added equal:  14 ...brethren in christ\n",
      "your numbers subtracted equal:  0 ...muh boi\n",
      "the only thing im taking away from this is your inability to subtract...\n",
      "You picked a postive muber....good job pal! 👍\n"
     ]
    }
   ],
   "source": [
    "num1 = int(input(\"give me a number, slimo:\"))\n",
    "num2 = int(input(\"give me a second number, bro bro:\"))\n",
    "\n",
    "multiplied = num1 * num2\n",
    "added = num1 + num2\n",
    "subtracted = num1 - num2\n",
    "\n",
    "print(\"your numbers multiplied equal:\", multiplied, \"....weirdo\")\n",
    "print(\"your numbers added equal: \", added, \"...brethren in christ\")\n",
    "print(\"your numbers subtracted equal: \", subtracted, \"...muh boi\") \n",
    "\n",
    "if multiplied == 0:\n",
    "    print(\"multiple numbers to pick and you chose ones that multiply to zero....wtf\")\n",
    "if added == 0:\n",
    "    print(\"all your braincells add up to the same amount bud...\")\n",
    "if subtracted == 0:\n",
    "    print(\"the only thing im taking away from this is your inability to subtract...\")\n",
    "\n",
    "if multiplied > 0:\n",
    "    print(\"You picked a postive muber....good job pal! 👍\")\n",
    "elif multiplied < 0: \n",
    "    print(\"ewww a negative number? yuck\")\n",
    "\n",
    "else: \n",
    "    print(\"you hipster son of a gun 🤮\")\n"
   ]
  },
  {
   "cell_type": "code",
   "execution_count": null,
   "metadata": {},
   "outputs": [],
   "source": []
  },
  {
   "cell_type": "code",
   "execution_count": null,
   "metadata": {},
   "outputs": [],
   "source": []
  },
  {
   "cell_type": "code",
   "execution_count": null,
   "metadata": {},
   "outputs": [],
   "source": []
  }
 ],
 "metadata": {
  "kernelspec": {
   "display_name": "Python 3 (ipykernel)",
   "language": "python",
   "name": "python3"
  },
  "language_info": {
   "codemirror_mode": {
    "name": "ipython",
    "version": 3
   },
   "file_extension": ".py",
   "mimetype": "text/x-python",
   "name": "python",
   "nbconvert_exporter": "python",
   "pygments_lexer": "ipython3",
   "version": "3.11.0"
  }
 },
 "nbformat": 4,
 "nbformat_minor": 4
}
