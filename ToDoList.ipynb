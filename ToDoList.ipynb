{
 "cells": [
  {
   "cell_type": "code",
   "execution_count": 6,
   "metadata": {},
   "outputs": [
    {
     "name": "stdout",
     "output_type": "stream",
     "text": [
      "1.) View your task list\n",
      "2.) Add task to your list.\n",
      "3.) Delete task from list\n",
      "4.) Exit\n"
     ]
    },
    {
     "name": "stdin",
     "output_type": "stream",
     "text": [
      "What would you like to do?(1.2.3.4.):  4\n"
     ]
    },
    {
     "name": "stdout",
     "output_type": "stream",
     "text": [
      "Exiting....\n"
     ]
    }
   ],
   "source": [
    "to_do = [] #creates a list for the user to fill\n",
    "menu_choice = () #something i thought up to help end the loop and progream...probably not pythonetic but i like it\n",
    "while menu_choice != 4: # if 4 is seleceted it ends the loop\n",
    "    try:\n",
    "        print('1.) View your task list') #gives you some options to select from using numbers \n",
    "        print('2.) Add task to your list.')\n",
    "        print('3.) Delete task from list')\n",
    "        print('4.) Exit')\n",
    "        menu_choice = int(input('What would you like to do?(1.2.3.4.): '))  #prompts the user to pick 1-4\n",
    "        if menu_choice < 1 or menu_choice > 4:\n",
    "            print('invalid menu choice')\n",
    "        elif menu_choice == 1: #if user selects one it prints the to do list\n",
    "            print(to_do)\n",
    "        elif menu_choice == 2: #if user selects 2 it prints the list and prompts you to add a task via user input \n",
    "            print(to_do)\n",
    "            add_task = input('What would you like to add to the list: ')\n",
    "            to_do.append(add_task) #adds user input to list\n",
    "        elif menu_choice == 3: #if user selects 3 we ask them via user input to delete a task\n",
    "            remove_task = input('what task would you like to remove?: ')\n",
    "            if remove_task in to_do: #if logic statement to check if the user input is in the list \n",
    "                to_do.remove(remove_task) #if its in the list we remove it hten print a statement saying its removed \n",
    "                print(remove_task + ' was removed')\n",
    "            else: # this will be our catch...if user inputs something not on the li\n",
    "                print(remove_task + ' item was not on the list')\n",
    "        elif menu_choice == 4: #if user inputs for we print exit and we are OUT\n",
    "            print('Exiting....')    \n",
    "    except ValueError: #keeps us safe from input errors \n",
    "        print('input error')"
   ]
  }
 ],
 "metadata": {
  "kernelspec": {
   "display_name": "Python 3 (ipykernel)",
   "language": "python",
   "name": "python3"
  },
  "language_info": {
   "codemirror_mode": {
    "name": "ipython",
    "version": 3
   },
   "file_extension": ".py",
   "mimetype": "text/x-python",
   "name": "python",
   "nbconvert_exporter": "python",
   "pygments_lexer": "ipython3",
   "version": "3.11.0"
  }
 },
 "nbformat": 4,
 "nbformat_minor": 4
}
